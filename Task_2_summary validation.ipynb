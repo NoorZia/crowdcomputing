{
 "cells": [
  {
   "cell_type": "markdown",
   "metadata": {},
   "source": [
    "## Job creation on Figure Eight"
   ]
  },
  {
   "cell_type": "markdown",
   "metadata": {},
   "source": [
    "In the following, we will create a video summary validation task, with CML for the main task using the FigureEight API."
   ]
  },
  {
   "cell_type": "markdown",
   "metadata": {},
   "source": [
    "### 1. Preparations"
   ]
  },
  {
   "cell_type": "code",
   "execution_count": 1,
   "metadata": {},
   "outputs": [
    {
     "name": "stderr",
     "output_type": "stream",
     "text": [
      "C:\\Users\\LTS WinPro\\Anaconda3\\lib\\site-packages\\gensim\\utils.py:1197: UserWarning: detected Windows; aliasing chunkize to chunkize_serial\n",
      "  warnings.warn(\"detected Windows; aliasing chunkize to chunkize_serial\")\n"
     ]
    }
   ],
   "source": [
    "import requests\n",
    "import json\n",
    "import csv\n",
    "import datetime as dt\n",
    "import pandas as pd\n",
    "import numpy as np\n",
    "import re \n",
    "from datetime import datetime\n",
    "import time\n",
    "import os\n",
    "from collections import OrderedDict\n",
    "from gensim.summarization.summarizer import summarize\n",
    "import itertools "
   ]
  },
  {
   "cell_type": "markdown",
   "metadata": {},
   "source": [
    "### 2. Time conversion functions"
   ]
  },
  {
   "cell_type": "code",
   "execution_count": 2,
   "metadata": {},
   "outputs": [],
   "source": [
    "def convert_time(timestring):\n",
    "\n",
    "    nums = list(map(float, re.findall(r'\\d+', timestring)))\n",
    "    return 3600*nums[0] + 60*nums[1] + nums[2] + nums[3]/1000"
   ]
  },
  {
   "cell_type": "code",
   "execution_count": 3,
   "metadata": {},
   "outputs": [],
   "source": [
    "def to_seconds(string):\n",
    "    \n",
    "    hr, min, sec = [float(x) for x in string.split(':')]\n",
    "    return hr*3600 + min*60 + sec"
   ]
  },
  {
   "cell_type": "markdown",
   "metadata": {},
   "source": [
    "### 3. Input preparation"
   ]
  },
  {
   "cell_type": "code",
   "execution_count": 4,
   "metadata": {},
   "outputs": [],
   "source": [
    "def count_row(file):\n",
    "    \n",
    "    df =pd.read_csv(file)\n",
    "    return df.shape[0]"
   ]
  },
  {
   "cell_type": "code",
   "execution_count": 5,
   "metadata": {},
   "outputs": [],
   "source": [
    "def starting_time(file, count):\n",
    "    \n",
    "    \n",
    "    df =pd.read_csv(file)\n",
    "    time = df['starting_time'][count]\n",
    "    st_time = to_seconds(time)\n",
    "    \n",
    "    return st_time"
   ]
  },
  {
   "cell_type": "code",
   "execution_count": 6,
   "metadata": {},
   "outputs": [],
   "source": [
    "def ending_time(file, count):\n",
    "    \n",
    "    \n",
    "    df =pd.read_csv(file)\n",
    "    time = df['ending_time'][count]\n",
    "    end_time = to_seconds(time)\n",
    "    \n",
    "    return end_time"
   ]
  },
  {
   "cell_type": "code",
   "execution_count": 17,
   "metadata": {},
   "outputs": [],
   "source": [
    "substring = 'stoi.srt' #name of the srt file reference\n",
    "substring_machine = 'myth_machine.txt'"
   ]
  },
  {
   "cell_type": "code",
   "execution_count": 18,
   "metadata": {},
   "outputs": [],
   "source": [
    "for root, subdirs, files in os.walk('C:/Users/LTS WinPro/Desktop/'): #Your filepath\n",
    "    for filename in files:\n",
    "        if substring in filename:\n",
    "            f = open(os.path.join(root,filename))\n",
    "            lines = f.readlines()"
   ]
  },
  {
   "cell_type": "code",
   "execution_count": 19,
   "metadata": {},
   "outputs": [],
   "source": [
    "for root, subdirs, files in os.walk('C:/Users/LTS WinPro/Desktop/'): #Your filepath\n",
    "    for filename in files:\n",
    "        if substring_machine in filename:\n",
    "            f = open(os.path.join(root,filename))\n",
    "            lines_machine = f.readlines()\n",
    "            lines_machine = ''.join(lines_machine)\n",
    "            # print(lines_machine)\n",
    "            lines_cleaned = lines_machine.rstrip(\"\\n\")"
   ]
  },
  {
   "cell_type": "code",
   "execution_count": 20,
   "metadata": {},
   "outputs": [],
   "source": [
    "times_texts = []\n",
    "current_times , current_text = None, \"\"\n",
    "for line in lines:\n",
    "    times = re.findall(\"[0-9]*:[0-9]*:[0-9]*,[0-9]*\", line)\n",
    "    if times != []:\n",
    "        current_times = list(map(convert_time, times))\n",
    "    elif line == '\\n':\n",
    "        times_texts.append((current_times, current_text))\n",
    "        current_times, current_text = None, \"\"\n",
    "    elif current_times is not None:\n",
    "        current_text = current_text + line.replace(\"\\n\",\" \")"
   ]
  },
  {
   "cell_type": "code",
   "execution_count": 21,
   "metadata": {},
   "outputs": [],
   "source": [
    "def find_continuous_intervals(inp_time, out_time):\n",
    "    lists = []\n",
    "    for y in range(int(inp_time),int(out_time+1)):\n",
    "        lists.append(y)\n",
    "    return lists"
   ]
  },
  {
   "cell_type": "code",
   "execution_count": 22,
   "metadata": {},
   "outputs": [],
   "source": [
    "def find_overlap_intervals(lists):\n",
    "    return list(set.intersection(*map(set, lists)))"
   ]
  },
  {
   "cell_type": "code",
   "execution_count": 23,
   "metadata": {},
   "outputs": [],
   "source": [
    "def flat_intervals(intervals):\n",
    "    lists = []\n",
    "    for sublist in intervals:\n",
    "        for item in sublist:\n",
    "            lists.append(item)\n",
    "    return lists"
   ]
  },
  {
   "cell_type": "code",
   "execution_count": 24,
   "metadata": {},
   "outputs": [],
   "source": [
    "def frequent_intervals(intervals):\n",
    "    lists = []\n",
    "    num_counter = {}\n",
    "    for number in intervals:\n",
    "        if number in num_counter:\n",
    "            num_counter[number] += 1\n",
    "        else:\n",
    "            num_counter[number] = 1\n",
    " \n",
    "    lists = sorted(num_counter, key = num_counter.get, reverse = True)\n",
    "    top_3 = lists[:300]\n",
    "    top_3.sort()\n",
    "    return top_3"
   ]
  },
  {
   "cell_type": "code",
   "execution_count": 25,
   "metadata": {},
   "outputs": [],
   "source": [
    "def extract_intervals(top_list): \n",
    "      \n",
    "    top_list = sorted(set(top_list)) \n",
    "    for key, group in itertools.groupby(enumerate(top_list), \n",
    "    lambda t: t[1] - t[0]): \n",
    "        group = list(group) \n",
    "        yield [group[0][1], group[-1][1]] "
   ]
  },
  {
   "cell_type": "markdown",
   "metadata": {},
   "source": [
    "### 4. Main function to produce value structure"
   ]
  },
  {
   "cell_type": "code",
   "execution_count": 26,
   "metadata": {
    "scrolled": false
   },
   "outputs": [
    {
     "name": "stdout",
     "output_type": "stream",
     "text": [
      "17\n",
      "You've been stranded thousands of miles from home with no money or possessions. Such a predicament would make many people despair and curse their awful fate. But for Zeno of Cyprus, it became the foundation of his life's work and legacy. The once wealthy merchant lost everything when he was shipwrecked in Athens around 300 BCE. With not much else to do, he wandered into a book shop, became intrigued by reading about Socrates, and proceeded to seek out and study with the city's noted philosophers. As Zeno began educating his own students, he originated the philosophy known as Stoicism, whose teachings of virtue, tolerance, and self-control have inspired generations of thinkers and leaders. The name Stoicism comes  from the Stoa Poikile, the decorated public colonnade even in the bleakest situations. to mean someone who  remains calm under pressure and avoids emotional extremes. But while this captures important aspects of Stoicism, the original philosophy was more than just an attitude. The Stoics believed that  everything around us operates according  to a web of cause and effect, resulting in a rational structure of the universe, which they called logos. And while we may not always have control over the events affecting us, we can have control over  how we approach things. Rather than imagining an ideal society, the Stoic tries to deal  with the world as it is while pursuing self-improvement through four cardinal virtues: practical wisdom, the ability to navigate complex situations in a logical, informed, and calm manner; temperance, the exercise of self-restraint  and moderation in all aspects of life; justice, treating others with fairness even when they have done wrong; and courage, not just in extraordinary circumstances, but facing daily challenges with clarity and integrity. As Seneca, one of the most famous Roman Stoics wrote, \"Sometimes, even to live  is an act of courage.\" But while Stoicism focuses on  personal improvement, it's not a self-centered philosophy. At a time when Roman laws considered slaves as property, Seneca called for their humane treatment and stressed that we all share the same fundamental humanity. even in the bleakest situations. The idea is that only people  who have cultivated even in the bleakest situations. \n"
     ]
    }
   ],
   "source": [
    "res = []\n",
    "file_csv = 'C:/Users/LTS WinPro/Desktop/stoicism.csv'\n",
    "\n",
    "counter = count_row(file_csv)\n",
    "continuousIntervals = []\n",
    "flatIntervals = []\n",
    "aggregatedIntervals = []\n",
    "print(counter)\n",
    "\n",
    "for i in range(counter):\n",
    "    inp_time = float(starting_time(file_csv, i))\n",
    "#    print(inp_time)\n",
    "    out_time = float(ending_time(file_csv, i))\n",
    "#    print(out_time)\n",
    "    intervals = find_continuous_intervals(inp_time, out_time)\n",
    "    continuousIntervals.append(intervals)\n",
    "        \n",
    "flatIntervals = flat_intervals(continuousIntervals)\n",
    "topTime = frequent_intervals(flatIntervals)\n",
    "#print(topTime)\n",
    "aggregatedIntervals = list(extract_intervals(topTime))\n",
    "#print(aggregatedIntervals)\n",
    "\n",
    "for i in aggregatedIntervals:\n",
    "    for key,value in times_texts:\n",
    "        if ((key[0] > i[0]) and (key[1] < i[1])):\n",
    "            #print(value)\n",
    "            temp = [key,value]\n",
    "            res.append(temp)\n",
    "            #res.append(key,value)\n",
    "#print(res)\n",
    "\n",
    "s=\"\"\n",
    "str=\"\"\n",
    "for key, value in res:\n",
    "    #print(value)\n",
    "    sst = s.join(value)\n",
    "    str+=sst\n",
    "\n",
    "print(str)"
   ]
  },
  {
   "cell_type": "code",
   "execution_count": 45,
   "metadata": {},
   "outputs": [
    {
     "name": "stdout",
     "output_type": "stream",
     "text": [
      "and screwed tightly shut. But the contents, Zeus told her,  were not for mortal eyes. She was not to open the box  under any circumstance. Monstrous creatures and horrendous sounds rushed out in a cloud of smoke and swirled around her, screeching and cackling. Filled with terror, Pandora clawed desperately at the air  to direct them back into their prison. Today, Pandoraâ€™s Box suggests  the extreme consequences of tampering with the unknown â€“ but Pandoraâ€™s burning curiosity also  suggests the duality that lies at the heart of human inquiry. Are we bound to investigate everything  we donâ€™t know, to mine the earth for more â€“ or are there some mysteries \n"
     ]
    }
   ],
   "source": [
    "s=\"\"\n",
    "str=\"\"\n",
    "for key, value in res:\n",
    "    #print(value)\n",
    "    sst = s.join(value)\n",
    "    str+=sst\n",
    "\n",
    "print(str)"
   ]
  },
  {
   "cell_type": "markdown",
   "metadata": {},
   "source": [
    "### 5. Intersection"
   ]
  },
  {
   "cell_type": "markdown",
   "metadata": {},
   "source": [
    "### 6. Passing input"
   ]
  },
  {
   "cell_type": "code",
   "execution_count": 22,
   "metadata": {},
   "outputs": [
    {
     "name": "stdout",
     "output_type": "stream",
     "text": [
      "As she wept, Pandora became aware of a sound echoing  from within the box.\n",
      "She knew that opening the box  was irreversible â€“ but alongside the strife, sheâ€™d set hope forth to temper its effects.\n"
     ]
    }
   ],
   "source": [
    "print (summarize(str,word_count=40))"
   ]
  },
  {
   "cell_type": "code",
   "execution_count": 23,
   "metadata": {},
   "outputs": [
    {
     "name": "stdout",
     "output_type": "stream",
     "text": [
      "two gifts on Pandora.\n",
      "On earth, Pandora met and fell in love \n",
      "Zeus had used the box as a vessel\n",
      "Pandora became aware of a sound echoing \n",
      "Today, Pandoraâ€™s Box suggests \n",
      "to mine the earth for more â€“\n"
     ]
    }
   ],
   "source": [
    "print(summarize(lines_cleaned,word_count=40))"
   ]
  },
  {
   "cell_type": "code",
   "execution_count": 24,
   "metadata": {},
   "outputs": [],
   "source": [
    "sum_machine = summarize(lines_cleaned, word_count=40)\n",
    "sum_workers = summarize(str, word_count=40)"
   ]
  },
  {
   "cell_type": "markdown",
   "metadata": {},
   "source": [
    "### 7. Access preparation"
   ]
  },
  {
   "cell_type": "code",
   "execution_count": 25,
   "metadata": {},
   "outputs": [],
   "source": [
    "api_key=\"juEydPi9AVH26V9AGTfv\"\n",
    "\n",
    "#Getting the response of the api call into a json file\n",
    "response=requests.post(\"https://api.figure-eight.com/v1/jobs.json?key=\"+api_key)"
   ]
  },
  {
   "cell_type": "code",
   "execution_count": 26,
   "metadata": {},
   "outputs": [
    {
     "name": "stdout",
     "output_type": "stream",
     "text": [
      "200\n"
     ]
    }
   ],
   "source": [
    "#response status code\n",
    "print(response.status_code)"
   ]
  },
  {
   "cell_type": "code",
   "execution_count": 27,
   "metadata": {},
   "outputs": [
    {
     "name": "stdout",
     "output_type": "stream",
     "text": [
      "b'{\"id\":1394638,\"options\":{\"logical_aggregation\":true,\"mail_to\":\"w.huang-10@student.tudelft.nl\",\"req_ttl_in_seconds\":1800},\"title\":null,\"secret\":\"w29Oq3myHcQXqsfiFCeNoiXay81l7wU+XKwK1XaHYjg6\",\"project_number\":null,\"alias\":null,\"judgments_per_unit\":3,\"units_per_assignment\":5,\"pages_per_assignment\":1,\"max_judgments_per_worker\":null,\"gold_per_assignment\":1,\"minimum_account_age_seconds\":null,\"execution_mode\":\"worker_ui_remix\",\"payment_cents\":10,\"design_verified\":true,\"public_data\":false,\"variable_judgments_mode\":\"none\",\"max_judgments_per_unit\":null,\"expected_judgments_per_unit\":null,\"min_unit_confidence\":null,\"units_remain_finalized\":null,\"auto_order_timeout\":null,\"auto_order_threshold\":4,\"completed_at\":null,\"state\":\"unordered\",\"auto_order\":false,\"webhook_uri\":null,\"send_judgments_webhook\":null,\"language\":\"en\",\"minimum_requirements\":null,\"desired_requirements\":null,\"max_work_per_network\":null,\"copied_from\":null,\"created_at\":\"2019-06-16T14:50:22+00:00\",\"updated_at\":\"2019-06-16T14:50:22+00:00\",\"included_countries\":[],\"excluded_countries\":[],\"instructions\":\"\",\"cml\":null,\"js\":null,\"css\":null,\"confidence_fields\":null,\"gold\":{},\"units_count\":0,\"golds_count\":0,\"judgments_count\":0,\"support_email\":\"w.huang-10@student.tudelft.nl\",\"worker_ui_remix\":true,\"crowd_costs\":0.0,\"quiz_mode_enabled\":false,\"completed\":false,\"fields\":null,\"order_approved\":false}'\n"
     ]
    }
   ],
   "source": [
    "#response content, job details\n",
    "print(response.content)"
   ]
  },
  {
   "cell_type": "markdown",
   "metadata": {},
   "source": [
    "### 7. Create a task model here"
   ]
  },
  {
   "cell_type": "code",
   "execution_count": 178,
   "metadata": {},
   "outputs": [],
   "source": [
    "#Creating task with title, instructions and no data\n",
    "job_title = \"Video validation task\"\n",
    "instructions=\"<h1>Overview</h1><p>Please play the video and select the most appropriate summary in terms of conclusiveness and accuracy of the summary. </p><hr><h1>Steps</h1><p>1. Play the video.</p><p>2. Understand the video content.</p><p>3. Inspect the two summary and understand them.</p><p>4. Select one summary that summarize the video better.</p>\"\n",
    "instructions+=\"<p>5. Submit your work.</p>\""
   ]
  },
  {
   "cell_type": "code",
   "execution_count": 179,
   "metadata": {},
   "outputs": [],
   "source": [
    "#setup the request url\n",
    "request_url = \"https://api.figure-eight.com/v1/jobs.json\"\n",
    "headers = {'content-type': 'application/json'}"
   ]
  },
  {
   "cell_type": "code",
   "execution_count": 180,
   "metadata": {},
   "outputs": [],
   "source": [
    "cml=\"\"\"<div class=\"html-element-wrapper\">\n",
    "  <a target=\"_blank\" href=\"{{link}}\">\n",
    "    <span>\n",
    "      <img span=\"\" class=\"fr-fic fr-dii\" />\n",
    "    </span>\n",
    "    <span>{{link}}</span>\n",
    "  </a>\n",
    "  <p>\n",
    "    <span>\n",
    "      <iframe src=\"{{link}}\" width=\"560\" height=\"380\" frameborder=\"0\" allow=\"accelerometer; autoplay; encrypted-media; gyroscope; picture-in-picture\"></iframe>\n",
    "    </span>\n",
    "    <br />\n",
    "  </p>\n",
    "  <p>\n",
    "    <br />\n",
    "  </p>\n",
    "</div>\n",
    "<cml:radios validates=\"required\" label=\"Please select the most appropriate summary from the candidates.\">\n",
    "  <cml:radio label=\"{{choice1}}\" />\n",
    "  <cml:radio label=\"{{choice2}}\" />\n",
    "</cml:radios>\"\"\""
   ]
  },
  {
   "cell_type": "code",
   "execution_count": 181,
   "metadata": {},
   "outputs": [],
   "source": [
    "#Setup the payload object\n",
    "payload = {\n",
    "'key': api_key,\n",
    "'job':{\n",
    "'title': job_title,\n",
    "'instructions': instructions,\n",
    "'cml': cml\n",
    "}\n",
    "}\n",
    "\n",
    "response=requests.post(request_url, data=json.dumps(payload), headers=headers)\n",
    "#print(response.content)"
   ]
  },
  {
   "cell_type": "code",
   "execution_count": 182,
   "metadata": {},
   "outputs": [
    {
     "name": "stdout",
     "output_type": "stream",
     "text": [
      "1394602\n"
     ]
    }
   ],
   "source": [
    "#find job id and save it\n",
    "workJson = json.loads(response.content)\n",
    "job_id = workJson['id']\n",
    "print(job_id)"
   ]
  },
  {
   "cell_type": "code",
   "execution_count": 183,
   "metadata": {},
   "outputs": [],
   "source": [
    "#Updating the task we had created before by adding data row by row (unit by unit)\n",
    "API_KEY = \"juEydPi9AVH26V9AGTfv\"\n",
    "\n",
    "data = {\"link\": \"https://www.youtube.com/embed/pMdJxVjZMRI?cc_load_policy=1&color=white&loop=1&modestbranding=1\", \"choice1\": sum_machine, \"choice2\": sum_workers}\n",
    "\n",
    "request_url = \"https://api.figure-eight.com/v1/jobs/{}/units.json\".format(job_id)\n",
    "headers = {'content-type': 'application/json'}\n",
    "\n",
    "payload = {\n",
    "'key': API_KEY,\n",
    "'unit': {\n",
    "'data': data\n",
    "}\n",
    "}\n",
    "response=requests.post(request_url, data=json.dumps(payload), headers=headers)"
   ]
  },
  {
   "cell_type": "code",
   "execution_count": 150,
   "metadata": {},
   "outputs": [],
   "source": []
  },
  {
   "cell_type": "code",
   "execution_count": null,
   "metadata": {},
   "outputs": [],
   "source": []
  }
 ],
 "metadata": {
  "kernelspec": {
   "display_name": "Python 3",
   "language": "python",
   "name": "python3"
  },
  "language_info": {
   "codemirror_mode": {
    "name": "ipython",
    "version": 3
   },
   "file_extension": ".py",
   "mimetype": "text/x-python",
   "name": "python",
   "nbconvert_exporter": "python",
   "pygments_lexer": "ipython3",
   "version": "3.7.3"
  }
 },
 "nbformat": 4,
 "nbformat_minor": 2
}
