{
 "cells": [
  {
   "cell_type": "markdown",
   "metadata": {},
   "source": [
    "## Job creation on Figure Eight"
   ]
  },
  {
   "cell_type": "markdown",
   "metadata": {},
   "source": [
    "In the following, we will create a video selection task, with CML for the main task using the FigureEight API."
   ]
  },
  {
   "cell_type": "code",
   "execution_count": 1,
   "metadata": {},
   "outputs": [],
   "source": [
    "import requests\n",
    "import json"
   ]
  },
  {
   "cell_type": "markdown",
   "metadata": {},
   "source": [
    "### 1. Access preparation"
   ]
  },
  {
   "cell_type": "code",
   "execution_count": 2,
   "metadata": {},
   "outputs": [],
   "source": [
    "api_key=\"juEydPi9AVH26V9AGTfv\"\n",
    "\n",
    "#Getting the response of the api call into a json file\n",
    "response=requests.post(\"https://api.figure-eight.com/v1/jobs.json?key=\"+api_key)"
   ]
  },
  {
   "cell_type": "code",
   "execution_count": 3,
   "metadata": {},
   "outputs": [
    {
     "name": "stdout",
     "output_type": "stream",
     "text": [
      "200\n"
     ]
    }
   ],
   "source": [
    "#response status code\n",
    "print(response.status_code)"
   ]
  },
  {
   "cell_type": "code",
   "execution_count": 4,
   "metadata": {},
   "outputs": [
    {
     "name": "stdout",
     "output_type": "stream",
     "text": [
      "b'{\"id\":1394783,\"options\":{\"logical_aggregation\":true,\"mail_to\":\"w.huang-10@student.tudelft.nl\",\"req_ttl_in_seconds\":1800},\"title\":null,\"secret\":\"09wSTnl1sTyLQ/8iZezar+eQ7R8uRViHUN2G+pDDbvzX\",\"project_number\":null,\"alias\":null,\"judgments_per_unit\":3,\"units_per_assignment\":5,\"pages_per_assignment\":1,\"max_judgments_per_worker\":null,\"gold_per_assignment\":1,\"minimum_account_age_seconds\":null,\"execution_mode\":\"worker_ui_remix\",\"payment_cents\":10,\"design_verified\":true,\"public_data\":false,\"variable_judgments_mode\":\"none\",\"max_judgments_per_unit\":null,\"expected_judgments_per_unit\":null,\"min_unit_confidence\":null,\"units_remain_finalized\":null,\"auto_order_timeout\":null,\"auto_order_threshold\":4,\"completed_at\":null,\"state\":\"unordered\",\"auto_order\":false,\"webhook_uri\":null,\"send_judgments_webhook\":null,\"language\":\"en\",\"minimum_requirements\":null,\"desired_requirements\":null,\"max_work_per_network\":null,\"copied_from\":null,\"created_at\":\"2019-06-16T23:55:58+00:00\",\"updated_at\":\"2019-06-16T23:55:58+00:00\",\"included_countries\":[],\"excluded_countries\":[],\"instructions\":\"\",\"cml\":null,\"js\":null,\"css\":null,\"confidence_fields\":null,\"gold\":{},\"units_count\":0,\"golds_count\":0,\"judgments_count\":0,\"support_email\":\"w.huang-10@student.tudelft.nl\",\"worker_ui_remix\":true,\"crowd_costs\":0.0,\"quiz_mode_enabled\":false,\"completed\":false,\"fields\":null,\"order_approved\":false}'\n"
     ]
    }
   ],
   "source": [
    "#response content, job details\n",
    "print(response.content)"
   ]
  },
  {
   "cell_type": "markdown",
   "metadata": {},
   "source": [
    "### 2. Create a task model here"
   ]
  },
  {
   "cell_type": "code",
   "execution_count": 5,
   "metadata": {},
   "outputs": [],
   "source": [
    "#Creating task with title, instructions and no data\n",
    "job_title = \"Video selection task - Heisenberg2\"\n",
    "instructions=\"<h1>Overview</h1><p>This is a crowd-based summarization task. We want you to select scenes that best reflect the main point of the video. You can provide multiple scenes, as some videos contain more than one topic or main point. Thank you for your work. </p><hr><h1>Steps</h1><p>1. Play the video.</p><p>2. Understand the video content.</p><p>3. Select the starting point of scenes that reflect best of the video's topic.</p><p>4. Select the end of the scene that reflect best of the video's topic.</p>\"\n",
    "instructions+=\"<p>5. Do this for all videos.</p><p>6. Submit your work.</p><hr><h1>Definitions of video ratings</h1><p>Al: All ages.</p><p>6: Potentially harmful to children under 6 years.</p><p>9: Potentially harmful to children under 9 years.</p><p>12: Potentially harmful to children under 12 years; broadcasting is not allowed before 8:00 pm.</p><p>16: Potentially harmful to (and not allowed for) children under 16 years; broadcasting is not allowed before 10:00 pm.</p>\"\n",
    "instructions+=\"<hr><h1>Definition of video tags</h1><p>Violence: behaviour which is intended to hurt, injure, or kill people</p><p>Explicit: the portrayal of sexual subject matter for the exclusive purpose of sexual arousal.</p><p>NSFW: videos or websites pages containing nudity, intense sexuality, profanity, violence or other potentially disturbing subject matter, which the viewer may not wish to be seen looking at in a public or formal environment, including a workplace or school.</p>\""
   ]
  },
  {
   "cell_type": "code",
   "execution_count": 6,
   "metadata": {},
   "outputs": [],
   "source": [
    "#setup the request url\n",
    "request_url = \"https://api.figure-eight.com/v1/jobs.json\"\n",
    "headers = {'content-type': 'application/json'}"
   ]
  },
  {
   "cell_type": "code",
   "execution_count": 7,
   "metadata": {},
   "outputs": [],
   "source": [
    "cml=\"\"\"<div class=\"html-element-wrapper\">\n",
    "  <a target=\"_blank\" href=\"{{link}}\">\n",
    "    <span>\n",
    "      <img span=\"\" class=\"fr-fic fr-dii\" />\n",
    "    </span>\n",
    "    <span>{{link}}</span>\n",
    "  </a>\n",
    "  <p>\n",
    "    <span>\n",
    "      <iframe src=\"{{link}}\" width=\"560\" height=\"380\" frameborder=\"0\" allow=\"accelerometer; autoplay; encrypted-media; gyroscope; picture-in-picture\"></iframe>\n",
    "    </span>\n",
    "    <br />\n",
    "  </p>\n",
    "  <p>\n",
    "    <br />\n",
    "  </p>\n",
    "</div>\n",
    "<cml:instructions>Please indicate the starting and ending time (HH:MM:SS, 00:03:25 for example) of the scenes that best summarize the video. If there are multiple scenes that represents the video's main topic, you can specify more starting and ending time of each representing scenes.</cml:instructions>\n",
    "<cml:text label=\"Starting time 1: (HH:MM:SS)\" validates=\"required\" name=\"first_starting_time.\" aggregation=\"all\" gold=\"true\" />\n",
    "<cml:text label=\"Ending time 1: (HH:MM:SS)\" validates=\"required\" name=\"first_ending_time.\" aggregation=\"all\" gold=\"true\" />\n",
    "<cml:text label=\"Starting time 2: (HH:MM:SS)(optional)\" name=\"second_starting_time.\" aggregation=\"all\" gold=\"true\" />\n",
    "<cml:text label=\"Ending time 2: (HH:MM:SS)(optional)\" name=\"second_ending_time.\" aggregation=\"all\" gold=\"true\" />\n",
    "<cml:text label=\"Starting time 3: (HH:MM:SS)(optional)\" name=\"third_starting_time.\" aggregation=\"all\" gold=\"true\" />\n",
    "<cml:text label=\"Ending time 3: (HH:MM:SS)(optional)\" name=\"third_ending_time.\" aggregation=\"all\" gold=\"true\" />\n",
    "<cml:radios validates=\"required\" label=\"What is the rating of this video?\">\n",
    "  <cml:instructions>Select one of the options. In case you do not understand the definition of these ratings, please refer to the instructions on top of this page.</cml:instructions>\n",
    "  <cml:radio label=\"Al (All ages)\" />\n",
    "  <cml:radio label=\"6 (Potentially harmful to children under 6 years)\" />\n",
    "  <cml:radio label=\"9 (Potentially harmful to children under 9 years)\" />\n",
    "  <cml:radio label=\"12 (Potentially harmful to children under 12 years)\" />\n",
    "  <cml:radio label=\"16 (Potentially harmful to (and not allowed for) children under 16 years)\" />\n",
    "</cml:radios>\n",
    "<cml:checkboxes validates=\"required\" label=\"Select the elements that are present in the video.\">\n",
    "  <cml:instructions>Select one or more of the options. In case you do not understand the definition of these ratings, please refer to the instructions on top of this page.</cml:instructions>\n",
    "  <cml:checkbox label=\"Violence (behaviour which is intended to hurt, injure, or kill people)\" />\n",
    "  <cml:checkbox label=\"Explicit (the portrayal of sexual subject matter for the exclusive purpose of sexual arousal)\" />\n",
    "  <cml:checkbox label=\"Technology\" />\n",
    "  <cml:checkbox label=\"Lifestyle\" />\n",
    "  <cml:checkbox label=\"History\" />\n",
    "  <cml:checkbox label=\"Science\" />\n",
    "  <cml:checkbox label=\"Entertainment\" />\n",
    "  <cml:checkbox label=\"None of the above\" />\n",
    "</cml:checkboxes>\"\"\""
   ]
  },
  {
   "cell_type": "code",
   "execution_count": 8,
   "metadata": {},
   "outputs": [
    {
     "name": "stdout",
     "output_type": "stream",
     "text": [
      "b'{\"id\":1394784,\"options\":{\"logical_aggregation\":true,\"mail_to\":\"w.huang-10@student.tudelft.nl\",\"req_ttl_in_seconds\":1800},\"title\":\"Video Selection Task - Heisenberg2\",\"secret\":\"EjI4Xp5QEWlW173/WhIeqye0RlLiVhKguL4T72O2rLmo\",\"project_number\":null,\"alias\":null,\"judgments_per_unit\":3,\"units_per_assignment\":5,\"pages_per_assignment\":1,\"max_judgments_per_worker\":null,\"gold_per_assignment\":1,\"minimum_account_age_seconds\":null,\"execution_mode\":\"worker_ui_remix\",\"payment_cents\":10,\"design_verified\":true,\"public_data\":false,\"variable_judgments_mode\":\"none\",\"max_judgments_per_unit\":null,\"expected_judgments_per_unit\":null,\"min_unit_confidence\":null,\"units_remain_finalized\":null,\"auto_order_timeout\":null,\"auto_order_threshold\":4,\"completed_at\":null,\"state\":\"unordered\",\"auto_order\":false,\"webhook_uri\":null,\"send_judgments_webhook\":null,\"language\":\"en\",\"minimum_requirements\":null,\"desired_requirements\":null,\"max_work_per_network\":null,\"copied_from\":null,\"created_at\":\"2019-06-16T23:56:03+00:00\",\"updated_at\":\"2019-06-16T23:56:03+00:00\",\"included_countries\":[],\"excluded_countries\":[],\"instructions\":\"<h1>Overview</h1><p>This is a crowd-based summarization task. We want you to select scenes that best reflect the main point of the video. You can provide multiple scenes, as some videos contain more than one topic or main point. Thank you for your work. </p><hr><h1>Steps</h1><p>1. Play the video.</p><p>2. Understand the video content.</p><p>3. Select the starting point of scenes that reflect best of the video\\'s topic.</p><p>4. Select the end of the scene that reflect best of the video\\'s topic.</p><p>5. Do this for all videos.</p><p>6. Submit your work.</p><hr><h1>Definitions of video ratings</h1><p>Al: All ages.</p><p>6: Potentially harmful to children under 6 years.</p><p>9: Potentially harmful to children under 9 years.</p><p>12: Potentially harmful to children under 12 years; broadcasting is not allowed before 8:00 pm.</p><p>16: Potentially harmful to (and not allowed for) children under 16 years; broadcasting is not allowed before 10:00 pm.</p><hr><h1>Definition of video tags</h1><p>Violence: behaviour which is intended to hurt, injure, or kill people</p><p>Explicit: the portrayal of sexual subject matter for the exclusive purpose of sexual arousal.</p><p>NSFW: videos or websites pages containing nudity, intense sexuality, profanity, violence or other potentially disturbing subject matter, which the viewer may not wish to be seen looking at in a public or formal environment, including a workplace or school.</p>\",\"cml\":\"<div class=\\\\\"html-element-wrapper\\\\\">\\\\n  <a target=\\\\\"_blank\\\\\" href=\\\\\"{{link}}\\\\\">\\\\n    <span>\\\\n      <img span=\\\\\"\\\\\" class=\\\\\"fr-fic fr-dii\\\\\" />\\\\n    </span>\\\\n    <span>{{link}}</span>\\\\n  </a>\\\\n  <p>\\\\n    <span>\\\\n      <iframe src=\\\\\"{{link}}\\\\\" width=\\\\\"560\\\\\" height=\\\\\"380\\\\\" frameborder=\\\\\"0\\\\\" allow=\\\\\"accelerometer; autoplay; encrypted-media; gyroscope; picture-in-picture\\\\\"></iframe>\\\\n    </span>\\\\n    <br />\\\\n  </p>\\\\n  <p>\\\\n    <br />\\\\n  </p>\\\\n</div>\\\\n<cml:instructions>Please indicate the starting and ending time (HH:MM:SS, 00:03:25 for example) of the scenes that best summarize the video. If there are multiple scenes that represents the video\\'s main topic, you can specify more starting and ending time of each representing scenes.</cml:instructions>\\\\n<cml:text label=\\\\\"Starting time 1: (HH:MM:SS)\\\\\" validates=\\\\\"required\\\\\" name=\\\\\"first_starting_time.\\\\\" aggregation=\\\\\"all\\\\\" gold=\\\\\"true\\\\\" />\\\\n<cml:text label=\\\\\"Ending time 1: (HH:MM:SS)\\\\\" validates=\\\\\"required\\\\\" name=\\\\\"first_ending_time.\\\\\" aggregation=\\\\\"all\\\\\" gold=\\\\\"true\\\\\" />\\\\n<cml:text label=\\\\\"Starting time 2: (HH:MM:SS)(optional)\\\\\" name=\\\\\"second_starting_time.\\\\\" aggregation=\\\\\"all\\\\\" gold=\\\\\"true\\\\\" />\\\\n<cml:text label=\\\\\"Ending time 2: (HH:MM:SS)(optional)\\\\\" name=\\\\\"second_ending_time.\\\\\" aggregation=\\\\\"all\\\\\" gold=\\\\\"true\\\\\" />\\\\n<cml:text label=\\\\\"Starting time 3: (HH:MM:SS)(optional)\\\\\" name=\\\\\"third_starting_time.\\\\\" aggregation=\\\\\"all\\\\\" gold=\\\\\"true\\\\\" />\\\\n<cml:text label=\\\\\"Ending time 3: (HH:MM:SS)(optional)\\\\\" name=\\\\\"third_ending_time.\\\\\" aggregation=\\\\\"all\\\\\" gold=\\\\\"true\\\\\" />\\\\n<cml:radios validates=\\\\\"required\\\\\" label=\\\\\"What is the rating of this video?\\\\\">\\\\n  <cml:instructions>Select one of the options. In case you do not understand the definition of these ratings, please refer to the instructions on top of this page.</cml:instructions>\\\\n  <cml:radio label=\\\\\"Al (All ages)\\\\\" />\\\\n  <cml:radio label=\\\\\"6 (Potentially harmful to children under 6 years)\\\\\" />\\\\n  <cml:radio label=\\\\\"9 (Potentially harmful to children under 9 years)\\\\\" />\\\\n  <cml:radio label=\\\\\"12 (Potentially harmful to children under 12 years)\\\\\" />\\\\n  <cml:radio label=\\\\\"16 (Potentially harmful to (and not allowed for) children under 16 years)\\\\\" />\\\\n</cml:radios>\\\\n<cml:checkboxes validates=\\\\\"required\\\\\" label=\\\\\"Select the elements that are present in the video.\\\\\">\\\\n  <cml:instructions>Select one or more of the options. In case you do not understand the definition of these ratings, please refer to the instructions on top of this page.</cml:instructions>\\\\n  <cml:checkbox label=\\\\\"Violence (behaviour which is intended to hurt, injure, or kill people)\\\\\" />\\\\n  <cml:checkbox label=\\\\\"Explicit (the portrayal of sexual subject matter for the exclusive purpose of sexual arousal)\\\\\" />\\\\n  <cml:checkbox label=\\\\\"Technology\\\\\" />\\\\n  <cml:checkbox label=\\\\\"Lifestyle\\\\\" />\\\\n  <cml:checkbox label=\\\\\"History\\\\\" />\\\\n  <cml:checkbox label=\\\\\"Science\\\\\" />\\\\n  <cml:checkbox label=\\\\\"Entertainment\\\\\" />\\\\n  <cml:checkbox label=\\\\\"None of the above\\\\\" />\\\\n</cml:checkboxes>\",\"js\":null,\"css\":null,\"confidence_fields\":null,\"gold\":{\"first_starting_time\":\"first_starting_time_gold\",\"first_ending_time\":\"first_ending_time_gold\",\"second_starting_time\":\"second_starting_time_gold\",\"second_ending_time\":\"second_ending_time_gold\",\"third_starting_time\":\"third_starting_time_gold\",\"third_ending_time\":\"third_ending_time_gold\",\"what_is_the_rating_of_this_video\":\"what_is_the_rating_of_this_video_gold\",\"select_the_elements_that_are_present_in_the_video\":\"select_the_elements_that_are_present_in_the_video_gold\"},\"units_count\":0,\"golds_count\":0,\"judgments_count\":0,\"support_email\":\"w.huang-10@student.tudelft.nl\",\"worker_ui_remix\":true,\"crowd_costs\":0.0,\"quiz_mode_enabled\":false,\"completed\":false,\"fields\":null,\"order_approved\":false}'\n"
     ]
    }
   ],
   "source": [
    "#Setup the payload object\n",
    "payload = {\n",
    "'key': api_key,\n",
    "'job':{\n",
    "'title': job_title,\n",
    "'instructions': instructions,\n",
    "'cml': cml\n",
    "}\n",
    "}\n",
    "\n",
    "response=requests.post(request_url, data=json.dumps(payload), headers=headers)\n",
    "print(response.content)"
   ]
  },
  {
   "cell_type": "code",
   "execution_count": 9,
   "metadata": {},
   "outputs": [
    {
     "name": "stdout",
     "output_type": "stream",
     "text": [
      "1394784\n"
     ]
    }
   ],
   "source": [
    "#find job id and save it\n",
    "workJson = json.loads(response.content)\n",
    "job_id = workJson['id']\n",
    "print(job_id)"
   ]
  },
  {
   "cell_type": "code",
   "execution_count": 10,
   "metadata": {},
   "outputs": [],
   "source": [
    "#Updating the task we had created before by adding data row by row (unit by unit)\n",
    "API_KEY = \"juEydPi9AVH26V9AGTfv\"\n",
    "\n",
    "data = {\"link\": \"https://www.youtube.com/embed/pMdJxVjZMRI?cc_load_policy=1&color=white&loop=1&modestbranding=1\"}\n",
    "\n",
    "request_url = \"https://api.figure-eight.com/v1/jobs/{}/units.json\".format(job_id)\n",
    "headers = {'content-type': 'application/json'}\n",
    "\n",
    "payload = {\n",
    "'key': API_KEY,\n",
    "'unit': {\n",
    "'data': data\n",
    "}\n",
    "}\n",
    "response=requests.post(request_url, data=json.dumps(payload), headers=headers)"
   ]
  },
  {
   "cell_type": "code",
   "execution_count": null,
   "metadata": {},
   "outputs": [],
   "source": []
  },
  {
   "cell_type": "code",
   "execution_count": null,
   "metadata": {},
   "outputs": [],
   "source": []
  }
 ],
 "metadata": {
  "kernelspec": {
   "display_name": "Python 3",
   "language": "python",
   "name": "python3"
  },
  "language_info": {
   "codemirror_mode": {
    "name": "ipython",
    "version": 3
   },
   "file_extension": ".py",
   "mimetype": "text/x-python",
   "name": "python",
   "nbconvert_exporter": "python",
   "pygments_lexer": "ipython3",
   "version": "3.7.3"
  }
 },
 "nbformat": 4,
 "nbformat_minor": 2
}
