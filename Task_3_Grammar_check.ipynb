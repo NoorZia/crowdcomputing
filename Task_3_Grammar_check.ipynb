{
 "cells": [
  {
   "cell_type": "code",
   "execution_count": 42,
   "metadata": {},
   "outputs": [],
   "source": [
    "import requests\n",
    "import json\n",
    "import csv\n",
    "import datetime as dt\n",
    "import pandas as pd\n",
    "import numpy as np\n",
    "import re \n",
    "from datetime import datetime\n",
    "import time\n",
    "import os\n",
    "from collections import OrderedDict\n",
    "from gensim.summarization.summarizer import summarize\n",
    "import itertools "
   ]
  },
  {
   "cell_type": "code",
   "execution_count": 43,
   "metadata": {},
   "outputs": [],
   "source": [
    "api_key=\"juEydPi9AVH26V9AGTfv\"\n",
    "\n",
    "#Getting the response of the api call into a json file\n",
    "response=requests.post(\"https://api.figure-eight.com/v1/jobs.json?key=\"+api_key)"
   ]
  },
  {
   "cell_type": "code",
   "execution_count": 44,
   "metadata": {},
   "outputs": [
    {
     "name": "stdout",
     "output_type": "stream",
     "text": [
      "200\n"
     ]
    }
   ],
   "source": [
    "#response status code\n",
    "print(response.status_code)"
   ]
  },
  {
   "cell_type": "code",
   "execution_count": 45,
   "metadata": {},
   "outputs": [
    {
     "name": "stdout",
     "output_type": "stream",
     "text": [
      "b'{\"id\":1394781,\"options\":{\"logical_aggregation\":true,\"mail_to\":\"w.huang-10@student.tudelft.nl\",\"req_ttl_in_seconds\":1800},\"title\":null,\"secret\":\"yR7fFhY5EhEQbYNlFeAlxbP2iXwB/j2A1/BjrrllJNG0\",\"project_number\":null,\"alias\":null,\"judgments_per_unit\":3,\"units_per_assignment\":5,\"pages_per_assignment\":1,\"max_judgments_per_worker\":null,\"gold_per_assignment\":1,\"minimum_account_age_seconds\":null,\"execution_mode\":\"worker_ui_remix\",\"payment_cents\":10,\"design_verified\":true,\"public_data\":false,\"variable_judgments_mode\":\"none\",\"max_judgments_per_unit\":null,\"expected_judgments_per_unit\":null,\"min_unit_confidence\":null,\"units_remain_finalized\":null,\"auto_order_timeout\":null,\"auto_order_threshold\":4,\"completed_at\":null,\"state\":\"unordered\",\"auto_order\":false,\"webhook_uri\":null,\"send_judgments_webhook\":null,\"language\":\"en\",\"minimum_requirements\":null,\"desired_requirements\":null,\"max_work_per_network\":null,\"copied_from\":null,\"created_at\":\"2019-06-16T23:19:45+00:00\",\"updated_at\":\"2019-06-16T23:19:45+00:00\",\"included_countries\":[],\"excluded_countries\":[],\"instructions\":\"\",\"cml\":null,\"js\":null,\"css\":null,\"confidence_fields\":null,\"gold\":{},\"units_count\":0,\"golds_count\":0,\"judgments_count\":0,\"support_email\":\"w.huang-10@student.tudelft.nl\",\"worker_ui_remix\":true,\"crowd_costs\":0.0,\"quiz_mode_enabled\":false,\"completed\":false,\"fields\":null,\"order_approved\":false}'\n"
     ]
    }
   ],
   "source": [
    "#response content, job details\n",
    "print(response.content)"
   ]
  },
  {
   "cell_type": "code",
   "execution_count": 46,
   "metadata": {},
   "outputs": [],
   "source": [
    "#Creating task with title, instructions and no data\n",
    "job_title = \"Summary grammar task - Myth\"\n",
    "instructions=\"<h1>Overview</h1><p>Please choose the summary you previously selected and perform a grammar check. </p><hr><h1>Steps</h1><p>1. Choose the summary you selected in the last task.</p><p>2. Read the summary and identify grammatical/syntax errors.</p><p>3. Make necessary changes of the summary in the textbox. If there are no detected grammatical errors, click the 'I didn't spot an errIor' checkbox.</p>\"\n",
    "instructions+=\"<p>5. Submit your work.</p><hr><h1>Previous summary</h1><p>The previous summary is:</p><p>Finally, Zeus bestowed  two gifts on Pandora. But the contents, Zeus told her,  were not for mortal eyes. Over time, Pandora became more and more  obsessed with the box. As she wept, Pandora became aware of a sound echoing  from within the box.</p>\""
   ]
  },
  {
   "cell_type": "code",
   "execution_count": 47,
   "metadata": {},
   "outputs": [],
   "source": [
    "#setup the request url\n",
    "request_url = \"https://api.figure-eight.com/v1/jobs.json\"\n",
    "headers = {'content-type': 'application/json'}"
   ]
  },
  {
   "cell_type": "code",
   "execution_count": 48,
   "metadata": {},
   "outputs": [],
   "source": [
    "cml=\"\"\"\n",
    "<cml:radios validates=\"required\" label=\"Do you see any errors in this summary?\">\n",
    "  <cml:radio label=\"I spot errors and will corrected it below.\" />\n",
    "  <cml:radio label=\"I didn't spot an error.\" />\n",
    "</cml:radios>\n",
    "<cml:text label=\"In case there are errors in the selected summary, please correct it in the textbox:\" name=\"improved_grammar.\" aggregation=\"all\" gold=\"true\" />\"\"\""
   ]
  },
  {
   "cell_type": "code",
   "execution_count": 49,
   "metadata": {},
   "outputs": [],
   "source": [
    "#Setup the payload object\n",
    "payload = {\n",
    "'key': api_key,\n",
    "'job':{\n",
    "'title': job_title,\n",
    "'instructions': instructions,\n",
    "'cml': cml\n",
    "}\n",
    "}\n",
    "\n",
    "response=requests.post(request_url, data=json.dumps(payload), headers=headers)\n",
    "#print(response.content)"
   ]
  },
  {
   "cell_type": "code",
   "execution_count": 50,
   "metadata": {},
   "outputs": [
    {
     "name": "stdout",
     "output_type": "stream",
     "text": [
      "1394782\n"
     ]
    }
   ],
   "source": [
    "#find job id and save it\n",
    "workJson = json.loads(response.content)\n",
    "job_id = workJson['id']\n",
    "print(job_id)"
   ]
  },
  {
   "cell_type": "code",
   "execution_count": 51,
   "metadata": {},
   "outputs": [],
   "source": [
    "#Updating the task we had created before by adding data row by row (unit by unit)\n",
    "API_KEY = \"juEydPi9AVH26V9AGTfv\"\n",
    "sum_workers = \"Finally, Zeus bestowed  two gifts on Pandora. But the contents, Zeus told her,  were not for mortal eyes. Over time, Pandora became more and more  obsessed with the box. As she wept, Pandora became aware of a sound echoing  from within the box.\"\n",
    "\n",
    "data = {\"choice\": sum_workers}\n",
    "\n",
    "request_url = \"https://api.figure-eight.com/v1/jobs/{}/units.json\".format(job_id)\n",
    "headers = {'content-type': 'application/json'}\n",
    "\n",
    "payload = {\n",
    "'key': API_KEY,\n",
    "'data': data\n",
    "}\n",
    "response=requests.post(request_url, data=json.dumps(payload), headers=headers)"
   ]
  },
  {
   "cell_type": "code",
   "execution_count": null,
   "metadata": {},
   "outputs": [],
   "source": []
  },
  {
   "cell_type": "code",
   "execution_count": null,
   "metadata": {},
   "outputs": [],
   "source": []
  }
 ],
 "metadata": {
  "kernelspec": {
   "display_name": "Python 3",
   "language": "python",
   "name": "python3"
  },
  "language_info": {
   "codemirror_mode": {
    "name": "ipython",
    "version": 3
   },
   "file_extension": ".py",
   "mimetype": "text/x-python",
   "name": "python",
   "nbconvert_exporter": "python",
   "pygments_lexer": "ipython3",
   "version": "3.7.3"
  }
 },
 "nbformat": 4,
 "nbformat_minor": 2
}
