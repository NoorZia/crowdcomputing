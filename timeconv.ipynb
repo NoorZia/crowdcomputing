{
 "cells": [
  {
   "cell_type": "code",
   "execution_count": 1,
   "metadata": {},
   "outputs": [
    {
     "name": "stderr",
     "output_type": "stream",
     "text": [
      "C:\\Users\\LTS WinPro\\Anaconda3\\lib\\site-packages\\gensim\\utils.py:1197: UserWarning: detected Windows; aliasing chunkize to chunkize_serial\n",
      "  warnings.warn(\"detected Windows; aliasing chunkize to chunkize_serial\")\n"
     ]
    }
   ],
   "source": [
    "import csv\n",
    "import datetime as dt\n",
    "import pandas as pd\n",
    "import numpy as np\n",
    "import re \n",
    "from datetime import datetime\n",
    "import time\n",
    "import os\n",
    "from collections import OrderedDict\n",
    "from gensim.summarization.summarizer import summarize"
   ]
  },
  {
   "cell_type": "code",
   "execution_count": 2,
   "metadata": {},
   "outputs": [
    {
     "name": "stdout",
     "output_type": "stream",
     "text": [
      "0    00:00:02\n",
      "1    00:00:15\n",
      "2    00:00:10\n",
      "3    00:00:02\n",
      "4    00:00:15\n",
      "5    00:00:10\n",
      "6    00:00:02\n",
      "7    00:00:15\n",
      "8    00:00:10\n",
      "9    00:00:02\n",
      "10   00:00:15\n",
      "11   00:00:10\n",
      "12   00:00:02\n",
      "13   00:00:15\n",
      "14   00:00:10\n",
      "Name: diff, dtype: timedelta64[ns]\n",
      "0      2.0\n",
      "1     15.0\n",
      "2     10.0\n",
      "3      2.0\n",
      "4     15.0\n",
      "5     10.0\n",
      "6      2.0\n",
      "7     15.0\n",
      "8     10.0\n",
      "9      2.0\n",
      "10    15.0\n",
      "11    10.0\n",
      "12     2.0\n",
      "13    15.0\n",
      "14    10.0\n",
      "Name: tos, dtype: float64\n"
     ]
    }
   ],
   "source": [
    "\n",
    "file = 'C:/Users/LTS WinPro/Desktop/testcs.csv'\n",
    "\n",
    "df =pd.read_csv(file)\n",
    "\n",
    "#print(df)\n",
    "\n",
    "\n",
    "df[\"diff\"] = df[\"end_dt\"].apply(lambda x: datetime.strptime(x, '%H:%M:%S')) - df['st_dt'].apply(lambda x: datetime.strptime(x, '%H:%M:%S'))\n",
    "print(df[\"diff\"])\n",
    "#df[\"tof\"]= (df[\"diff\"]*3600) + (df[\"diff\"]*60) + (df[\"diff\"])\n",
    "\n",
    "df['tos']=df[:10000]['diff'] / np.timedelta64(1, 's')\n",
    "\n",
    "print(df['tos']) \n"
   ]
  },
  {
   "cell_type": "code",
   "execution_count": null,
   "metadata": {},
   "outputs": [],
   "source": []
  },
  {
   "cell_type": "code",
   "execution_count": null,
   "metadata": {},
   "outputs": [],
   "source": []
  },
  {
   "cell_type": "code",
   "execution_count": null,
   "metadata": {},
   "outputs": [],
   "source": []
  }
 ],
 "metadata": {
  "kernelspec": {
   "display_name": "Python 3",
   "language": "python",
   "name": "python3"
  },
  "language_info": {
   "codemirror_mode": {
    "name": "ipython",
    "version": 3
   },
   "file_extension": ".py",
   "mimetype": "text/x-python",
   "name": "python",
   "nbconvert_exporter": "python",
   "pygments_lexer": "ipython3",
   "version": "3.7.3"
  }
 },
 "nbformat": 4,
 "nbformat_minor": 2
}
